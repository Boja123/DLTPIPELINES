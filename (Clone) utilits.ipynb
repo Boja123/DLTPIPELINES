{
 "cells": [
  {
   "cell_type": "code",
   "execution_count": 0,
   "metadata": {
    "application/vnd.databricks.v1+cell": {
     "cellMetadata": {
      "byteLimit": 2048000,
      "rowLimit": 10000
     },
     "inputWidgets": {},
     "nuid": "c7e5659d-fe57-4a2f-aeac-925b8817a707",
     "showTitle": false,
     "tableResultSettingsMap": {},
     "title": ""
    }
   },
   "outputs": [],
   "source": [
    "%python\n",
    "dbutils.widgets.text(\"source_tablename\", defaultValue=\"\",label=\"Source Table Name\")\n",
    "dbutils.widgets.text(\"target_tablename\", defaultValue=\"\",label=\"Target Table Name\")\n"
   ]
  },
  {
   "cell_type": "code",
   "execution_count": 0,
   "metadata": {
    "application/vnd.databricks.v1+cell": {
     "cellMetadata": {
      "byteLimit": 2048000,
      "rowLimit": 10000
     },
     "inputWidgets": {},
     "nuid": "dc043603-f03e-4766-9b20-8d4652eeab41",
     "showTitle": false,
     "tableResultSettingsMap": {},
     "title": ""
    }
   },
   "outputs": [],
   "source": [
    "table_name = dbutils.widgets.get(\"source_tablename\")\n",
    "\n",
    "if table_name:\n",
    "    df = spark.sql(f\"SELECT * FROM boja_catalog.boja_schema.{table_name}\")\n",
    "    display(df)\n",
    "else:\n",
    "    raise ValueError(\"The source_tablename widget is empty. Please set a valid table name.\")"
   ]
  },
  {
   "cell_type": "code",
   "execution_count": 0,
   "metadata": {
    "application/vnd.databricks.v1+cell": {
     "cellMetadata": {
      "byteLimit": 2048000,
      "rowLimit": 10000
     },
     "inputWidgets": {},
     "nuid": "b4de4eea-efa6-4430-bd83-f589b6588bc9",
     "showTitle": false,
     "tableResultSettingsMap": {},
     "title": ""
    }
   },
   "outputs": [],
   "source": [
    "%python\n",
    "table_name = dbutils.widgets.get(\"target_tablename\")\n",
    "if table_name:\n",
    "    df = spark.sql(f\"SELECT * FROM boja_catalog.boja_target_schema.{table_name}\")\n",
    "    display(df)\n",
    "else:\n",
    "    raise ValueError(\"The target_tablename widget is empty. Please set a valid table name.\")\n",
    "table_name = dbutils.widgets.get(\"target_tablename\")\n",
    "df = spark.sql(f\"SELECT * FROM boja_catalog.boja_target_schema.{table_name}\")\n",
    "display(df)"
   ]
  }
 ],
 "metadata": {
  "application/vnd.databricks.v1+notebook": {
   "computePreferences": null,
   "dashboards": [],
   "environmentMetadata": {
    "base_environment": "",
    "environment_version": "2"
   },
   "inputWidgetPreferences": null,
   "language": "python",
   "notebookMetadata": {
    "pythonIndentUnit": 4
   },
   "notebookName": "(Clone) utilits",
   "widgets": {
    "source_tablename": {
     "currentValue": "sales_table",
     "nuid": "e066b246-e21e-481d-9e90-33ec22101c0d",
     "typedWidgetInfo": {
      "autoCreated": false,
      "defaultValue": "",
      "label": "Source Table Name",
      "name": "source_tablename",
      "options": {
       "widgetDisplayType": "Text",
       "validationRegex": null
      },
      "parameterDataType": "String"
     },
     "widgetInfo": {
      "widgetType": "text",
      "defaultValue": "",
      "label": "Source Table Name",
      "name": "source_tablename",
      "options": {
       "widgetType": "text",
       "autoCreated": null,
       "validationRegex": null
      }
     }
    },
    "target_tablename": {
     "currentValue": "null_sales",
     "nuid": "5527d358-9c62-4a7b-9355-b43bbb212a9a",
     "typedWidgetInfo": {
      "autoCreated": false,
      "defaultValue": "",
      "label": "Target Table Name",
      "name": "target_tablename",
      "options": {
       "widgetDisplayType": "Text",
       "validationRegex": null
      },
      "parameterDataType": "String"
     },
     "widgetInfo": {
      "widgetType": "text",
      "defaultValue": "",
      "label": "Target Table Name",
      "name": "target_tablename",
      "options": {
       "widgetType": "text",
       "autoCreated": null,
       "validationRegex": null
      }
     }
    }
   }
  },
  "language_info": {
   "name": "python"
  }
 },
 "nbformat": 4,
 "nbformat_minor": 0
}
